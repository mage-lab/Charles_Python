{
 "cells": [
  {
   "cell_type": "markdown",
   "metadata": {},
   "source": [
    "##### declaration & types, begin with small letter then use any combination of letters & numbers\n",
    "dont use special characters \n",
    "the only allowed is underscore, example for long names are (currentBalance, current_balance)\n",
    "use ** for exponentiation, % for reminder\n",
    "orders are as follow (P) then ** then */ then +-\n",
    "use + for string concatenation"
   ]
  },
  {
   "cell_type": "code",
   "execution_count": 1,
   "metadata": {
    "collapsed": false
   },
   "outputs": [
    {
     "name": "stdout",
     "output_type": "stream",
     "text": [
      "<type 'int'>\n",
      "<type 'str'>\n"
     ]
    }
   ],
   "source": [
    "jon = 5\n",
    "print type(jon)\n",
    "name = 'awsome'\n",
    "print type(name)"
   ]
  },
  {
   "cell_type": "markdown",
   "metadata": {},
   "source": [
    "##### check is variable is of a type"
   ]
  },
  {
   "cell_type": "code",
   "execution_count": 3,
   "metadata": {
    "collapsed": false
   },
   "outputs": [
    {
     "name": "stdout",
     "output_type": "stream",
     "text": [
      "yes, name is a string\n"
     ]
    }
   ],
   "source": [
    "if isinstance( name, str) : print 'yes, name is a string'"
   ]
  },
  {
   "cell_type": "markdown",
   "metadata": {},
   "source": [
    "##### ask user for input, can be used empty for no statment, or a statement but notice it only accept string"
   ]
  },
  {
   "cell_type": "code",
   "execution_count": 4,
   "metadata": {
    "collapsed": false
   },
   "outputs": [
    {
     "name": "stdout",
     "output_type": "stream",
     "text": [
      "whatis your name? \n",
      "mage\n",
      "hello mage\n"
     ]
    }
   ],
   "source": [
    "your_name = raw_input('whatis your name? \\n')\n",
    "print 'hello', your_name"
   ]
  },
  {
   "cell_type": "markdown",
   "metadata": {},
   "source": [
    "#Datatype casting, convert between datatypes you can use, best in try: & except:\n",
    "#int(x)\t    Converts x to an integer\n",
    "#long(x)\tConverts x to a long integer\n",
    "#float(x)\tConverts x to a floating point number\n",
    "#str(x)\t    Converts x to an string.  x can be of the type float. integer or long.\n",
    "#hex(x)\t    Converts x integer to a hexadecimal string\n",
    "#chr(x)\t    Converts x integer to a character\n",
    "#ord(x)\t    Converts character x to an integer\n"
   ]
  },
  {
   "cell_type": "markdown",
   "metadata": {},
   "source": [
    "##### delete those variables that we no longer need. In this case, we could use the del() function to remove or unsign a variable"
   ]
  },
  {
   "cell_type": "code",
   "execution_count": 20,
   "metadata": {
    "collapsed": false
   },
   "outputs": [
    {
     "ename": "NameError",
     "evalue": "name 'rate' is not defined",
     "traceback": [
      "\u001b[1;31m\u001b[0m",
      "\u001b[1;31mNameError\u001b[0mTraceback (most recent call last)",
      "\u001b[1;32m<ipython-input-20-e55c7313b893>\u001b[0m in \u001b[0;36m<module>\u001b[1;34m()\u001b[0m\n\u001b[0;32m      1\u001b[0m \u001b[0mrate\u001b[0m\u001b[1;33m=\u001b[0m \u001b[1;36m0.075\u001b[0m\u001b[1;33m\u001b[0m\u001b[0m\n\u001b[0;32m      2\u001b[0m \u001b[1;32mdel\u001b[0m \u001b[0mrate\u001b[0m\u001b[1;33m\u001b[0m\u001b[0m\n\u001b[1;32m----> 3\u001b[1;33m \u001b[1;32mprint\u001b[0m \u001b[0mrate\u001b[0m\u001b[1;33m\u001b[0m\u001b[0m\n\u001b[0m",
      "\u001b[1;31mNameError\u001b[0m: name 'rate' is not defined"
     ],
     "output_type": "error"
    }
   ],
   "source": [
    "rate= 0.075\n",
    "del rate\n",
    "print rate"
   ]
  },
  {
   "cell_type": "markdown",
   "metadata": {},
   "source": [
    "##### two multiplication signs ** stand for a power function. \n",
    "#Python has a built-in function for power function, pow(x,y) for raising x to the power of y."
   ]
  },
  {
   "cell_type": "code",
   "execution_count": 21,
   "metadata": {
    "collapsed": false
   },
   "outputs": [
    {
     "name": "stdout",
     "output_type": "stream",
     "text": [
      "125000.0\n"
     ]
    }
   ],
   "source": [
    "pv = 5000\n",
    "r = 4\n",
    "n = 2\n",
    "FV = pv*(1+r)**n\n",
    "FV = pv*pow((1+r),n)\n",
    "print FV"
   ]
  },
  {
   "cell_type": "markdown",
   "metadata": {},
   "source": [
    "##### The default precision for Python has 16 decimal places. This is good enough for most finance-related problems\n",
    "#We could use the round() function to change the precision as follows"
   ]
  },
  {
   "cell_type": "code",
   "execution_count": 15,
   "metadata": {
    "collapsed": false
   },
   "outputs": [
    {
     "name": "stdout",
     "output_type": "stream",
     "text": [
      "0\n",
      "0.42857\n"
     ]
    }
   ],
   "source": [
    "payment = 3/7\n",
    "print payment\n",
    "payment1 = 0.42857142857142855\n",
    "payment2 = round(payment1,5)\n",
    "print payment2"
   ]
  },
  {
   "cell_type": "markdown",
   "metadata": {
    "collapsed": true
   },
   "source": [
    "##### this is one line comment\n",
    "'''\n",
    "this is \n",
    "a multi line\n",
    "comment\n",
    "'''"
   ]
  },
  {
   "cell_type": "code",
   "execution_count": 16,
   "metadata": {
    "collapsed": false
   },
   "outputs": [
    {
     "data": {
      "text/plain": [
       "<module 'numpy' from '/opt/conda/envs/python2/lib/python2.7/site-packages/numpy/__init__.pyc'>"
      ]
     },
     "execution_count": 16,
     "metadata": {},
     "output_type": "execute_result"
    }
   ],
   "source": [
    "import numpy as np\n",
    "np"
   ]
  },
  {
   "cell_type": "code",
   "execution_count": 19,
   "metadata": {
    "collapsed": false
   },
   "outputs": [
    {
     "data": {
      "text/plain": [
       "3.141592653589793"
      ]
     },
     "execution_count": 19,
     "metadata": {},
     "output_type": "execute_result"
    }
   ],
   "source": [
    "from math import *\n",
    "from math import sqrt,log\n",
    "import math\n",
    "pi\n",
    "math.pi"
   ]
  },
  {
   "cell_type": "code",
   "execution_count": null,
   "metadata": {
    "collapsed": true
   },
   "outputs": [],
   "source": [
    ""
   ]
  }
 ],
 "metadata": {
  "celltoolbar": "Edit Metadata",
  "kernelspec": {
   "display_name": "Python 2",
   "language": "python",
   "name": "python2"
  },
  "language_info": {
   "codemirror_mode": {
    "name": "ipython",
    "version": 2.0
   },
   "file_extension": ".py",
   "mimetype": "text/x-python",
   "name": "python",
   "nbconvert_exporter": "python",
   "pygments_lexer": "ipython2",
   "version": "2.7.11"
  },
  "widgets": {
   "state": {},
   "version": "1.1.2"
  }
 },
 "nbformat": 4,
 "nbformat_minor": 0
}